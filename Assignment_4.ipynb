{
  "nbformat": 4,
  "nbformat_minor": 0,
  "metadata": {
    "colab": {
      "name": "Assignment_4.ipynb",
      "provenance": [],
      "collapsed_sections": []
    },
    "kernelspec": {
      "name": "python3",
      "display_name": "Python 3"
    },
    "language_info": {
      "name": "python"
    }
  },
  "cells": [
    {
      "cell_type": "markdown",
      "metadata": {
        "id": "G3V3uxxIi_Mi"
      },
      "source": [
        "1. What exactly is [ ]?"
      ]
    },
    {
      "cell_type": "markdown",
      "metadata": {
        "id": "5Qo0ZIXnjHHc"
      },
      "source": [
        "**[ ], square brackets** are used to create the list"
      ]
    },
    {
      "cell_type": "markdown",
      "metadata": {
        "id": "qzLzesSpjyI7"
      },
      "source": [
        "2. In a list of values stored in a variable called spam, how would you assign the value 'hello' as the third value? (Assume [2, 4, 6, 8, 10] are in spam.)"
      ]
    },
    {
      "cell_type": "code",
      "metadata": {
        "colab": {
          "base_uri": "https://localhost:8080/"
        },
        "id": "97-jDu_8ibvc",
        "outputId": "a0ea7de2-0bb7-4658-d3be-b2b684d4dd9f"
      },
      "source": [
        "spam = [2, 4, 6, 8, 10]\n",
        "spam[2] = 'hello' #Lists are changeable data types\n",
        "spam"
      ],
      "execution_count": 2,
      "outputs": [
        {
          "output_type": "execute_result",
          "data": {
            "text/plain": [
              "[2, 4, 'hello', 8, 10]"
            ]
          },
          "metadata": {
            "tags": []
          },
          "execution_count": 2
        }
      ]
    },
    {
      "cell_type": "markdown",
      "metadata": {
        "id": "GeQ2iVX8kxg3"
      },
      "source": [
        "Let's pretend the spam includes the list ['a', 'b', 'c', 'd'] for the next three queries.\n",
        "3. What is the value of spam[int(int('3' * 2) / 11)]?\n"
      ]
    },
    {
      "cell_type": "code",
      "metadata": {
        "colab": {
          "base_uri": "https://localhost:8080/",
          "height": 35
        },
        "id": "ApvnUvGzkR0n",
        "outputId": "6e4bd634-0a77-4b13-8431-f17add278c0a"
      },
      "source": [
        "spam = ['a', 'b', 'c', 'd']\n",
        "spam[int(int('3' * 2) / 11)] # int(33/11)\n",
        "\n",
        "\n"
      ],
      "execution_count": 5,
      "outputs": [
        {
          "output_type": "execute_result",
          "data": {
            "application/vnd.google.colaboratory.intrinsic+json": {
              "type": "string"
            },
            "text/plain": [
              "'d'"
            ]
          },
          "metadata": {
            "tags": []
          },
          "execution_count": 5
        }
      ]
    },
    {
      "cell_type": "markdown",
      "metadata": {
        "id": "ZbTNbJdympRr"
      },
      "source": [
        "4. What is the value of spam[-1]?"
      ]
    },
    {
      "cell_type": "code",
      "metadata": {
        "colab": {
          "base_uri": "https://localhost:8080/",
          "height": 35
        },
        "id": "Acz08Bi8m7xv",
        "outputId": "718c115e-9ea4-40b2-bbda-96aabeabf0f0"
      },
      "source": [
        "spam[-1]"
      ],
      "execution_count": 6,
      "outputs": [
        {
          "output_type": "execute_result",
          "data": {
            "application/vnd.google.colaboratory.intrinsic+json": {
              "type": "string"
            },
            "text/plain": [
              "'d'"
            ]
          },
          "metadata": {
            "tags": []
          },
          "execution_count": 6
        }
      ]
    },
    {
      "cell_type": "markdown",
      "metadata": {
        "id": "NLZ1mdGenBPt"
      },
      "source": [
        "5. What is the value of spam[:2]?"
      ]
    },
    {
      "cell_type": "code",
      "metadata": {
        "colab": {
          "base_uri": "https://localhost:8080/"
        },
        "id": "MZwPW0IZnFFX",
        "outputId": "63ec81af-bffd-4a17-db31-a0966f2ddd03"
      },
      "source": [
        "spam[:2]"
      ],
      "execution_count": 7,
      "outputs": [
        {
          "output_type": "execute_result",
          "data": {
            "text/plain": [
              "['a', 'b']"
            ]
          },
          "metadata": {
            "tags": []
          },
          "execution_count": 7
        }
      ]
    },
    {
      "cell_type": "markdown",
      "metadata": {
        "id": "Q6g5AlGVnLXq"
      },
      "source": [
        "Let's pretend bacon has the list [3.14, 'cat,' 11, 'cat,' True] for the next three questions.\n",
        "6. What is the value of bacon.index('cat')?\n"
      ]
    },
    {
      "cell_type": "code",
      "metadata": {
        "colab": {
          "base_uri": "https://localhost:8080/"
        },
        "id": "eIexJhm9ni2_",
        "outputId": "e2318a5f-e29c-4c38-cbfd-b1ccece5f51b"
      },
      "source": [
        "bacon = [3.14,  'cat', 11, 'cat', True]\n",
        "bacon.index('cat') # it will give you the first index when it comes to repitative data"
      ],
      "execution_count": 11,
      "outputs": [
        {
          "output_type": "execute_result",
          "data": {
            "text/plain": [
              "1"
            ]
          },
          "metadata": {
            "tags": []
          },
          "execution_count": 11
        }
      ]
    },
    {
      "cell_type": "markdown",
      "metadata": {
        "id": "b9XzTwfao6uc"
      },
      "source": [
        "7. How does bacon.append(99) change the look of the list value in bacon?"
      ]
    },
    {
      "cell_type": "code",
      "metadata": {
        "colab": {
          "base_uri": "https://localhost:8080/"
        },
        "id": "wtXTXmX_pV0I",
        "outputId": "f29dbf29-987b-4eb3-e971-16b557a82914"
      },
      "source": [
        "bacon.append(99)\n",
        "bacon # here 3 times I executed the append operation, so the value of 99 is added in the end of the list"
      ],
      "execution_count": 14,
      "outputs": [
        {
          "output_type": "execute_result",
          "data": {
            "text/plain": [
              "[3.14, 'cat', 11, 'cat', True, 99, 99, 99]"
            ]
          },
          "metadata": {
            "tags": []
          },
          "execution_count": 14
        }
      ]
    },
    {
      "cell_type": "markdown",
      "metadata": {
        "id": "Z9fW5nHCpqsJ"
      },
      "source": [
        "8. How does bacon.remove('cat') change the look of the list in bacon?"
      ]
    },
    {
      "cell_type": "code",
      "metadata": {
        "colab": {
          "base_uri": "https://localhost:8080/"
        },
        "id": "9AEdOff2pX9S",
        "outputId": "0d7e0f12-0363-462a-eaac-07896b2acc6a"
      },
      "source": [
        "bacon.remove('cat') # The complier remove the least index value  because it executes the code from left\n",
        "bacon"
      ],
      "execution_count": 15,
      "outputs": [
        {
          "output_type": "execute_result",
          "data": {
            "text/plain": [
              "[3.14, 11, 'cat', True, 99, 99, 99]"
            ]
          },
          "metadata": {
            "tags": []
          },
          "execution_count": 15
        }
      ]
    },
    {
      "cell_type": "markdown",
      "metadata": {
        "id": "gn9R27KgqTtm"
      },
      "source": [
        "9. What are the list concatenation and list replication operators?"
      ]
    },
    {
      "cell_type": "markdown",
      "metadata": {
        "id": "ZkF5w-MWqYXq"
      },
      "source": [
        "The operator for list concatenation is **+** and operator for list replication is * "
      ]
    },
    {
      "cell_type": "markdown",
      "metadata": {
        "id": "H3dMHacIq22t"
      },
      "source": [
        "10. What is difference between the list methods append() and insert()?"
      ]
    },
    {
      "cell_type": "markdown",
      "metadata": {
        "id": "JwGjxGzmq_W6"
      },
      "source": [
        "**append()** method add values at the end of the list and **insert()** method add values any where in the list."
      ]
    },
    {
      "cell_type": "markdown",
      "metadata": {
        "id": "2wwqRjhKrTJp"
      },
      "source": [
        "11. What are the two methods for removing items from a list?"
      ]
    },
    {
      "cell_type": "markdown",
      "metadata": {
        "id": "raHkPHiprW-P"
      },
      "source": [
        "The **del and remove()** are the two methods used to remove the values from a list."
      ]
    },
    {
      "cell_type": "markdown",
      "metadata": {
        "id": "RpYoZlKvrpGY"
      },
      "source": [
        "12. Describe how list values and string values are identical."
      ]
    },
    {
      "cell_type": "markdown",
      "metadata": {
        "id": "WVkdfrdQrtjv"
      },
      "source": [
        "Both lists and strings can be passed to len(), have indexes and slices, be used in for loops, be concatenated or replicated, and be used with the in and not in operators."
      ]
    },
    {
      "cell_type": "markdown",
      "metadata": {
        "id": "dC8WzMGVsDRu"
      },
      "source": [
        "13. What's the difference between tuples and lists?"
      ]
    },
    {
      "cell_type": "markdown",
      "metadata": {
        "id": "gJKQIFZBsIjD"
      },
      "source": [
        "**Lists are mutable and tuples are immutable. We define tuples with ( ) and lists with [ ]**"
      ]
    },
    {
      "cell_type": "markdown",
      "metadata": {
        "id": "o67RxXpxshaP"
      },
      "source": [
        "14. How do you type a tuple value that only contains the integer 42?"
      ]
    },
    {
      "cell_type": "markdown",
      "metadata": {
        "id": "4sum97Nas3Bs"
      },
      "source": [
        "(42,) **trailing comma is mandatory**"
      ]
    },
    {
      "cell_type": "markdown",
      "metadata": {
        "id": "904RlXrLtEhv"
      },
      "source": [
        "15. How do you get a list value's tuple form? How do you get a tuple value's list form?"
      ]
    },
    {
      "cell_type": "markdown",
      "metadata": {
        "id": "7KAPF2fMtlvZ"
      },
      "source": [
        "We can use **tuple( ) and list[ ]** functions respectively."
      ]
    },
    {
      "cell_type": "markdown",
      "metadata": {
        "id": "TIzaM0AktssX"
      },
      "source": [
        "16. Variables that \"contain\" list values are not necessarily lists themselves. Instead, what do they contain?"
      ]
    },
    {
      "cell_type": "markdown",
      "metadata": {
        "id": "z3_3Pnfxt3Xt"
      },
      "source": [
        "They contain **references** to the list values."
      ]
    },
    {
      "cell_type": "markdown",
      "metadata": {
        "id": "_ZVZp2fQuHxU"
      },
      "source": [
        "17. How do you distinguish between copy.copy() and copy.deepcopy()?"
      ]
    },
    {
      "cell_type": "markdown",
      "metadata": {
        "id": "4nxKe0CwuLTU"
      },
      "source": [
        "The copy.copy() function will do a shallow copy of a list, while the copy.deepcopy() function will do a deep copy of a list. That is, only copy.deepcopy() will duplicate any lists inside the list."
      ]
    }
  ]
}